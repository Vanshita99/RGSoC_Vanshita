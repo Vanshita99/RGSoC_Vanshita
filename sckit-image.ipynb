{
 "cells": [
  {
   "cell_type": "markdown",
   "metadata": {},
   "source": [
    "### Loss function implementation for Direction of angle estimation problem\n",
    "\n",
    "DOA estimation problem has been an active area of research in the signal processing community, where I am trying to make a neural network learn the angles of arrival (AOAs) of a known number of multiple sources transmitting unknown signals.\n",
    "\n",
    "I am using many to one LSTM as the signal data is sequential in nature to output number of angles according to the number of sources(if there are two sources, the network is expected to learn two angles)\n",
    "\n",
    "![](many_to_one.jpg)\n",
    "\n",
    "The angle estimation loss function in case of single source is simply mean absolute error and for multiple sources is the squared root of the mean square error between the true source angle s and their closest estimation, which is mathematically expressed by\n",
    "\n",
    "![](loss_function.JPG)\n",
    "\n",
    "where theta m, and theta k are the true and estimated angle of arrivals,\n",
    "respectively, and k can vary from 0 to no of sources-1. "
   ]
  },
  {
   "cell_type": "code",
   "execution_count": null,
   "metadata": {},
   "outputs": [],
   "source": [
    "def r_m_s_e(y_true, y_pred):\n",
    "        print(K.int_shape(y_pred))\n",
    "   if no_of_sources==1:\n",
    "        return K.sqrt(K.mean(K.square(K.abs(y_pred-y_true)))) \n",
    "   else:\n",
    "        total=no_of_sources*batch_size\n",
    "        \n",
    "        b=K.repeat_elements(y_true,no_of_sources,axis=0)\n",
    "        print(\"b \",K.int_shape(b))\n",
    "        c=K.repeat_elements(y_pred,no_of_sources,axis=1)\n",
    "        print(K.int_shape(c))\n",
    "        c=K.reshape(c,(total,no_of_sources))\n",
    "        print(K.int_shape(c))\n",
    "        d=b-c\n",
    "        print(K.int_shape(d))\n",
    "        d=K.abs(d)\n",
    "        mini1=K.min(d,axis=1)\n",
    "        print(K.int_shape(mini1))\n",
    "        mini1=K.reshape(mini1,(batch_size,no_of_sources))\n",
    "        print(K.int_shape(mini1)) \n",
    "        return K.sqrt(K.mean(K.square(mini1),axis=-1))"
   ]
  },
  {
   "cell_type": "code",
   "execution_count": null,
   "metadata": {},
   "outputs": [],
   "source": []
  }
 ],
 "metadata": {
  "kernelspec": {
   "display_name": "Python 3",
   "language": "python",
   "name": "python3"
  },
  "language_info": {
   "codemirror_mode": {
    "name": "ipython",
    "version": 3
   },
   "file_extension": ".py",
   "mimetype": "text/x-python",
   "name": "python",
   "nbconvert_exporter": "python",
   "pygments_lexer": "ipython3",
   "version": "3.8.2"
  }
 },
 "nbformat": 4,
 "nbformat_minor": 4
}
